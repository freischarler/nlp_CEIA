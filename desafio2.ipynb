{
 "cells": [
  {
   "cell_type": "markdown",
   "metadata": {
    "id": "vA7nqkumo9z9"
   },
   "source": [
    "### Desafio 2\n",
    "El objetivo es utilizar documentos / corpus para crear embeddings de palabras basado en ese contexto. Se utilizará canciones de bandas para generar los embeddings, es decir, que los vectores tendrán la forma en función de como esa banda haya utilizado las palabras en sus canciones."
   ]
  },
  {
   "cell_type": "code",
   "execution_count": 3,
   "metadata": {
    "id": "lFToQs5FK5uZ"
   },
   "outputs": [],
   "source": [
    "import pandas as pd\n",
    "import matplotlib.pyplot as plt\n",
    "import seaborn as sns\n",
    "\n",
    "import multiprocessing\n",
    "from gensim.models import Word2Vec"
   ]
  },
  {
   "cell_type": "markdown",
   "metadata": {
    "id": "g07zJxG7H9vG"
   },
   "source": [
    "### Datos\n",
    "Utilizaremos como dataset la biblia."
   ]
  },
  {
   "cell_type": "code",
   "execution_count": 4,
   "metadata": {
    "id": "mOasTSu0HfiP"
   },
   "outputs": [],
   "source": [
    "import pandas as pd\n",
    "\n",
    "# Leer el archivo txt línea por línea\n",
    "with open('bible.txt', 'r', encoding='utf-8') as file:\n",
    "    lines = file.readlines()\n",
    "\n",
    "# Crear un DataFrame con las líneas de texto\n",
    "df = pd.DataFrame(lines, columns=['text'])\n"
   ]
  },
  {
   "cell_type": "markdown",
   "metadata": {
    "id": "ab94qaFlrA1G"
   },
   "source": [
    "### 1 - Preprocesamiento"
   ]
  },
  {
   "cell_type": "code",
   "execution_count": 5,
   "metadata": {
    "colab": {
     "base_uri": "https://localhost:8080/"
    },
    "id": "rIsmMWmjrDHd",
    "outputId": "15cae199-addc-4da9-94be-47c3d81cfd7a"
   },
   "outputs": [
    {
     "name": "stderr",
     "output_type": "stream",
     "text": [
      "<ipython-input-5-99a399a8b871>:7: FutureWarning: Series.__getitem__ treating keys as positions is deprecated. In a future version, integer keys will always be treated as labels (consistent with DataFrame behavior). To access a value by position, use `ser.iloc[pos]`\n",
      "  sentence_tokens.append(text_to_word_sequence(row[0]))\n"
     ]
    }
   ],
   "source": [
    "from tensorflow.keras.preprocessing.text import text_to_word_sequence\n",
    "\n",
    "sentence_tokens = []\n",
    "# Recorrer todas las filas y transformar las oraciones\n",
    "# en una secuencia de palabras (esto podría realizarse con NLTK o spaCy también)\n",
    "for _, row in df[:None].iterrows():\n",
    "    sentence_tokens.append(text_to_word_sequence(row[0]))"
   ]
  },
  {
   "cell_type": "code",
   "execution_count": 6,
   "metadata": {
    "colab": {
     "base_uri": "https://localhost:8080/"
    },
    "id": "CHepi_DGrbhq",
    "outputId": "fcb12ded-97b4-4a45-c7b9-8f3dbb3eca9d"
   },
   "outputs": [
    {
     "data": {
      "text/plain": [
       "[['1',\n",
       "  '1',\n",
       "  'in',\n",
       "  'the',\n",
       "  'beginning',\n",
       "  'god',\n",
       "  'created',\n",
       "  'the',\n",
       "  'heaven',\n",
       "  'and',\n",
       "  'the',\n",
       "  'earth'],\n",
       " []]"
      ]
     },
     "execution_count": 6,
     "metadata": {},
     "output_type": "execute_result"
    }
   ],
   "source": [
    "# Demos un vistazo\n",
    "sentence_tokens[:2]"
   ]
  },
  {
   "cell_type": "markdown",
   "metadata": {
    "id": "BaXV6nlHr5Aa"
   },
   "source": [
    "### 2 - Crear los vectores (word2vec)"
   ]
  },
  {
   "cell_type": "code",
   "execution_count": 7,
   "metadata": {
    "id": "OSb0v7h8r7hK"
   },
   "outputs": [],
   "source": [
    "from gensim.models.callbacks import CallbackAny2Vec\n",
    "# Durante el entrenamiento gensim por defecto no informa el \"loss\" en cada época\n",
    "# Sobrecargamos el callback para poder tener esta información\n",
    "class callback(CallbackAny2Vec):\n",
    "    \"\"\"\n",
    "    Callback to print loss after each epoch\n",
    "    \"\"\"\n",
    "    def __init__(self):\n",
    "        self.epoch = 0\n",
    "\n",
    "    def on_epoch_end(self, model):\n",
    "        loss = model.get_latest_training_loss()\n",
    "        if self.epoch == 0:\n",
    "            print('Loss after epoch {}: {}'.format(self.epoch, loss))\n",
    "        else:\n",
    "            print('Loss after epoch {}: {}'.format(self.epoch, loss- self.loss_previous_step))\n",
    "        self.epoch += 1\n",
    "        self.loss_previous_step = loss"
   ]
  },
  {
   "cell_type": "code",
   "execution_count": 8,
   "metadata": {
    "id": "i0wnDdv9sJ47"
   },
   "outputs": [],
   "source": [
    "# Crearmos el modelo generador de vectores\n",
    "# En este caso utilizaremos la estructura modelo Skipgram\n",
    "w2v_model = Word2Vec(min_count=5,    # frecuencia mínima de palabra para incluirla en el vocabulario\n",
    "                     window=2,       # cant de palabras antes y desp de la predicha\n",
    "                     vector_size=300,       # dimensionalidad de los vectores\n",
    "                     negative=20,    # cantidad de negative samples... 0 es no se usa\n",
    "                     workers=1,      # si tienen más cores pueden cambiar este valor\n",
    "                     sg=1)           # modelo 0:CBOW  1:skipgram"
   ]
  },
  {
   "cell_type": "code",
   "execution_count": 9,
   "metadata": {
    "id": "5lTt8wErsf17"
   },
   "outputs": [],
   "source": [
    "# Obtener el vocabulario con los tokens\n",
    "w2v_model.build_vocab(sentence_tokens)"
   ]
  },
  {
   "cell_type": "code",
   "execution_count": 10,
   "metadata": {
    "colab": {
     "base_uri": "https://localhost:8080/"
    },
    "id": "TNc9qt4os5AT",
    "outputId": "9bf4e905-abd7-442e-a1f2-0c6143d16f6b"
   },
   "outputs": [
    {
     "name": "stdout",
     "output_type": "stream",
     "text": [
      "Cantidad de docs en el corpus: 100182\n"
     ]
    }
   ],
   "source": [
    "# Cantidad de filas/docs encontradas en el corpus\n",
    "print(\"Cantidad de docs en el corpus:\", w2v_model.corpus_count)"
   ]
  },
  {
   "cell_type": "code",
   "execution_count": 11,
   "metadata": {
    "colab": {
     "base_uri": "https://localhost:8080/"
    },
    "id": "idw9cHF3tSMl",
    "outputId": "e74056be-6c38-4d5c-f260-c396f7031323"
   },
   "outputs": [
    {
     "name": "stdout",
     "output_type": "stream",
     "text": [
      "Cantidad de words distintas en el corpus: 5546\n"
     ]
    }
   ],
   "source": [
    "# Cantidad de words encontradas en el corpus\n",
    "print(\"Cantidad de words distintas en el corpus:\", len(w2v_model.wv.index_to_key))"
   ]
  },
  {
   "cell_type": "markdown",
   "metadata": {
    "id": "fC9mZ8DPk-UC"
   },
   "source": [
    "### 3 - Entrenar embeddings"
   ]
  },
  {
   "cell_type": "code",
   "execution_count": 12,
   "metadata": {
    "colab": {
     "base_uri": "https://localhost:8080/"
    },
    "id": "QSp-x0PAsq56",
    "outputId": "c361313a-7df9-4c90-b369-d2cbb907af24"
   },
   "outputs": [
    {
     "name": "stdout",
     "output_type": "stream",
     "text": [
      "Loss after epoch 0: 4777817.0\n",
      "Loss after epoch 1: 3815242.0\n",
      "Loss after epoch 2: 3569690.0\n",
      "Loss after epoch 3: 3522183.0\n",
      "Loss after epoch 4: 3387094.0\n",
      "Loss after epoch 5: 3311360.0\n",
      "Loss after epoch 6: 3281536.0\n",
      "Loss after epoch 7: 3259660.0\n",
      "Loss after epoch 8: 3244736.0\n",
      "Loss after epoch 9: 3217926.0\n",
      "Loss after epoch 10: 3161648.0\n",
      "Loss after epoch 11: 3142352.0\n",
      "Loss after epoch 12: 3139160.0\n",
      "Loss after epoch 13: 3133480.0\n",
      "Loss after epoch 14: 3129908.0\n",
      "Loss after epoch 15: 3132104.0\n",
      "Loss after epoch 16: 3148856.0\n",
      "Loss after epoch 17: 3166680.0\n",
      "Loss after epoch 18: 3213112.0\n",
      "Loss after epoch 19: 3288852.0\n"
     ]
    },
    {
     "data": {
      "text/plain": [
       "(11676694, 17106420)"
      ]
     },
     "execution_count": 12,
     "metadata": {},
     "output_type": "execute_result"
    }
   ],
   "source": [
    "# Entrenamos el modelo generador de vectores\n",
    "# Utilizamos nuestro callback\n",
    "w2v_model.train(sentence_tokens,\n",
    "                 total_examples=w2v_model.corpus_count,\n",
    "                 epochs=20,\n",
    "                 compute_loss = True,\n",
    "                 callbacks=[callback()]\n",
    "                 )"
   ]
  },
  {
   "cell_type": "markdown",
   "metadata": {
    "id": "ddT9NVuNlCAe"
   },
   "source": [
    "### 4 - Ensayar"
   ]
  },
  {
   "cell_type": "code",
   "execution_count": 13,
   "metadata": {
    "colab": {
     "base_uri": "https://localhost:8080/"
    },
    "id": "6cHN9xGLuPEm",
    "outputId": "1ca8f7ed-950c-47dd-8efc-ab83a508bee6"
   },
   "outputs": [
    {
     "data": {
      "text/plain": [
       "[('lord', 0.5730342268943787),\n",
       " ('redeemer', 0.5453082323074341),\n",
       " ('frame', 0.5271272659301758),\n",
       " ('saviour', 0.5261989235877991),\n",
       " ('chastisement', 0.5240002274513245),\n",
       " ('mysteries', 0.5144867300987244),\n",
       " ('creator', 0.49918073415756226),\n",
       " ('perfected', 0.49882596731185913),\n",
       " ('manifold', 0.49732062220573425),\n",
       " ('battles', 0.4926450848579407)]"
      ]
     },
     "execution_count": 13,
     "metadata": {},
     "output_type": "execute_result"
    }
   ],
   "source": [
    "# Palabras que MÁS se relacionan con...:\n",
    "w2v_model.wv.most_similar(positive=[\"god\"], topn=10)"
   ]
  },
  {
   "cell_type": "code",
   "execution_count": 32,
   "metadata": {
    "colab": {
     "base_uri": "https://localhost:8080/"
    },
    "id": "47HiU5gdkdMq",
    "outputId": "bd67aeee-656d-4b69-ed21-10f54828ef4f"
   },
   "outputs": [
    {
     "data": {
      "text/plain": [
       "[('waste', 0.014200050383806229),\n",
       " ('wast', 0.0025252443738281727),\n",
       " ('deal', -0.006110143382102251),\n",
       " ('sore', -0.01044493168592453),\n",
       " ('required', -0.010514795780181885),\n",
       " ('cedar', -0.012273339554667473),\n",
       " ('buy', -0.013524515554308891),\n",
       " ('instead', -0.02326493337750435),\n",
       " ('elishama', -0.03137492015957832),\n",
       " ('wailing', -0.031655602157115936)]"
      ]
     },
     "execution_count": 32,
     "metadata": {},
     "output_type": "execute_result"
    }
   ],
   "source": [
    "# Palabras que MENOS se relacionan con...:\n",
    "w2v_model.wv.most_similar(negative=[\"angels\"], topn=10)"
   ]
  },
  {
   "cell_type": "code",
   "execution_count": 15,
   "metadata": {
    "colab": {
     "base_uri": "https://localhost:8080/"
    },
    "id": "DT4Rvno2mD65",
    "outputId": "6f9d1587-f1a9-4f0d-d7e2-a64f4295c48b"
   },
   "outputs": [
    {
     "data": {
      "text/plain": [
       "[('virtue', 0.5468472838401794),\n",
       " ('satan', 0.5166077613830566),\n",
       " ('depths', 0.5162392854690552),\n",
       " ('scorner', 0.5110312104225159),\n",
       " ('hypocrite', 0.4994121789932251),\n",
       " ('haughtiness', 0.49401673674583435),\n",
       " ('dragon', 0.48691684007644653),\n",
       " ('worshippeth', 0.47627192735671997),\n",
       " ('assyrian', 0.4746253788471222),\n",
       " ('thief', 0.4734523594379425)]"
      ]
     },
     "execution_count": 15,
     "metadata": {},
     "output_type": "execute_result"
    }
   ],
   "source": [
    "# Palabras que MÁS se relacionan con...:\n",
    "w2v_model.wv.most_similar(positive=[\"devil\"], topn=10)"
   ]
  },
  {
   "cell_type": "code",
   "execution_count": 33,
   "metadata": {
    "colab": {
     "base_uri": "https://localhost:8080/"
    },
    "id": "XPLDPgzBmQXt",
    "outputId": "1e18d934-578c-46c4-cf36-b8adea4cb74c"
   },
   "outputs": [
    {
     "data": {
      "text/plain": [
       "[('nathanael', 0.5209063291549683),\n",
       " ('delilah', 0.4736468195915222),\n",
       " ('thessalonians', 0.4716348946094513),\n",
       " ('nicodemus', 0.4562121629714966),\n",
       " ('sufferings', 0.4494789242744446)]"
      ]
     },
     "execution_count": 33,
     "metadata": {},
     "output_type": "execute_result"
    }
   ],
   "source": [
    "# Palabras que MÁS se relacionan con...:\n",
    "w2v_model.wv.most_similar(positive=[\"jesus\"], topn=5)"
   ]
  },
  {
   "cell_type": "code",
   "execution_count": 17,
   "metadata": {
    "colab": {
     "base_uri": "https://localhost:8080/"
    },
    "id": "L_UvHPMMklOr",
    "outputId": "186a0094-2bad-48af-86a5-6b02b63888ca"
   },
   "outputs": [
    {
     "data": {
      "text/plain": [
       "[('cherubims', 0.05353224650025368),\n",
       " ('upper', 0.035112038254737854),\n",
       " ('daughter', 0.03446437790989876),\n",
       " ('damascus', 0.025203648954629898),\n",
       " ('shittim', 0.009352218359708786),\n",
       " ('image', 0.0007316727424040437),\n",
       " ('linen', -0.009695431217551231),\n",
       " ('chamber', -0.01615547388792038),\n",
       " ('golden', -0.018067626282572746),\n",
       " ('apparel', -0.018889186903834343)]"
      ]
     },
     "execution_count": 17,
     "metadata": {},
     "output_type": "execute_result"
    }
   ],
   "source": [
    "# Ensayar con una palabra que no está en el vocabulario:\n",
    "w2v_model.wv.most_similar(negative=[\"live\"])"
   ]
  },
  {
   "cell_type": "code",
   "execution_count": 18,
   "metadata": {
    "colab": {
     "base_uri": "https://localhost:8080/"
    },
    "id": "arS9PF1_orLp",
    "outputId": "10410684-10bc-44d1-9c2f-43d136bc7adf"
   },
   "outputs": [
    {
     "name": "stdout",
     "output_type": "stream",
     "text": [
      "[ 0.09039005  0.05372788 -0.26714545 -0.13950245 -0.22212401 -0.7992531\n",
      " -0.11710159  0.2243005   0.18414569 -0.4809237  -0.22478873 -0.28210968\n",
      " -0.05582813 -0.44710064 -0.2290846  -0.09007631 -0.27776662  0.40626135\n",
      " -0.19397128 -0.26435834 -0.08926313  0.04539828  0.2297129   0.09748125\n",
      "  0.12479744 -0.08310294 -0.50724727  0.10955284 -0.4955615  -0.19359046\n",
      " -0.2495866  -0.4810181   0.04106821 -0.51638544  0.11580996  0.12613517\n",
      "  0.292876   -0.11123432  0.16893478  0.06195729 -0.19424915  0.03732344\n",
      "  0.33799672 -0.3119915   0.28347555  0.15507935  0.00507754  0.30813685\n",
      " -0.17305163 -0.25167558  0.06347592 -0.14956717 -0.02762952  0.40801656\n",
      " -0.22168082  0.04242125 -0.17952333  0.01369147  0.11931366  0.18440315\n",
      "  0.0552565  -0.35736537  0.5594959  -0.0053529   0.49043342 -0.05448807\n",
      "  0.29457343  0.14696535 -0.14236319  0.10583593 -0.08996093  0.09630919\n",
      "  0.24716245  0.13586035  0.2819606  -0.35285553  0.20003062 -0.3073448\n",
      "  0.09643014  0.38266748 -0.38865313  0.12099951 -0.3472703   0.6741631\n",
      "  0.2509764   0.43997875  0.23476653  0.40177357 -0.2225817  -0.07691045\n",
      "  0.14950821  0.38752976  0.12613589 -0.04999898 -0.3068247  -0.04365778\n",
      "  0.17582296 -0.65792596  0.3192149  -0.05552474 -0.36780953  0.03230557\n",
      "  0.5560056  -0.29076886 -0.13597347 -0.07423333 -0.15570416  0.01390389\n",
      " -0.21041992  0.31500483  0.02596441 -0.03550355 -0.14303511  0.22767358\n",
      " -0.11353219  0.04234193  0.18373965 -0.1647351   0.79841954 -0.08192016\n",
      "  0.08302727  0.30756927  0.449742    0.06202664  0.07319342 -0.30395952\n",
      "  0.13141422 -0.6360829  -0.28407156  0.09054654 -0.06747301 -0.21235704\n",
      " -0.11081014  0.29845625 -0.24984124 -0.10917696 -0.01563849 -0.18896955\n",
      "  0.31464356  0.06713735 -0.03567383 -0.60294944 -0.51656437  0.02552406\n",
      " -0.5349817  -0.20573135  0.01861478  0.3621836   0.06527576  0.03067339\n",
      " -0.27555555  0.5162312   0.1961874   0.09582481 -0.40766054 -0.21321885\n",
      "  0.19415192  0.1922462   0.02210632 -0.04840517 -0.00824547 -0.02219073\n",
      " -0.35341382 -0.6154865   0.603684   -0.02989669  0.07796498  0.19585171\n",
      " -0.32048517  0.12097953 -0.3642366  -0.00303787  0.1668008  -0.43562135\n",
      "  0.49409634  0.08351176  0.19374529 -0.00810437  0.3105397  -0.37029636\n",
      "  0.01419198  0.09342523 -0.09467365  0.49767944 -0.56338346  0.02140772\n",
      "  0.5691611   0.25803125 -0.06810645 -0.24020177  0.07915711  0.05357615\n",
      "  0.02092656  0.15536669 -0.4172452   0.53468585  0.33489805 -0.3480049\n",
      " -0.11725605 -0.49476805  0.31411004  0.18167935  0.09829434 -0.6588337\n",
      "  0.19667388 -0.4588481  -0.3418035   0.31202206  0.13480768  0.17734158\n",
      "  0.04554593 -0.6784136   0.06293527 -0.3505354  -0.25309494 -0.03770779\n",
      "  0.1204786  -0.06836177 -0.16902313 -0.21014474  0.01451204 -0.47215015\n",
      " -0.08262639  0.3282256   0.22421622  0.18754674  0.18383124 -0.4088271\n",
      " -0.13073155  0.08879671  0.04165917 -0.0810296  -0.13804783 -0.00572255\n",
      "  0.23685189 -0.16648763  0.30659708  0.31404227 -0.07287545  0.10640197\n",
      "  0.20257293  0.10705499 -0.36982095 -0.12471564  0.12523471 -0.17575788\n",
      "  0.18954712 -0.17869064  0.07421415  0.11814464  0.00481084 -0.05463254\n",
      "  0.23840803 -0.02604328 -0.48336032  0.06216537  0.07767469 -0.21308726\n",
      " -0.21049964 -0.02555694  0.40965042 -0.14557749  0.09711597 -0.26923358\n",
      " -0.4448459  -0.23481062 -0.09141142 -0.20367146  0.14408854  0.18179789\n",
      "  0.06594832 -0.17903155 -0.1789053   0.25863582 -0.15388727 -0.05158919\n",
      " -0.02206578  0.18098006  0.10318791 -0.17846559  0.15441799  0.04774487\n",
      " -0.34650692  0.27013928  0.2716269   0.16363442 -0.3575703  -0.04487241\n",
      "  0.19713777  0.0383982   0.04190921  0.45801973 -0.27589282 -0.10670532\n",
      " -0.05704649  0.36226454 -0.31401002 -0.12878945 -0.0900548   0.00374043]\n"
     ]
    }
   ],
   "source": [
    "# el método `get_vector` permite obtener los vectores:\n",
    "vector_love = w2v_model.wv.get_vector(\"love\")\n",
    "print(vector_love)"
   ]
  },
  {
   "cell_type": "code",
   "execution_count": 19,
   "metadata": {
    "colab": {
     "base_uri": "https://localhost:8080/"
    },
    "id": "tBhvuJFIorLp",
    "outputId": "26f33565-9b59-4d9b-e072-0f554c6bab83"
   },
   "outputs": [
    {
     "data": {
      "text/plain": [
       "[('love', 1.0),\n",
       " ('direct', 0.4883764684200287),\n",
       " ('defraud', 0.4770340025424957),\n",
       " ('lovingkindness', 0.47489625215530396),\n",
       " ('brotherly', 0.47010743618011475),\n",
       " ('speeches', 0.4693288207054138),\n",
       " ('instruct', 0.46356064081192017),\n",
       " ('grant', 0.4588417410850525),\n",
       " ('specially', 0.4569951593875885),\n",
       " ('patient', 0.4567239582538605)]"
      ]
     },
     "execution_count": 19,
     "metadata": {},
     "output_type": "execute_result"
    }
   ],
   "source": [
    "# el método `most_similar` también permite comparar a partir de vectores\n",
    "w2v_model.wv.most_similar(vector_love)"
   ]
  },
  {
   "cell_type": "code",
   "execution_count": 20,
   "metadata": {
    "colab": {
     "base_uri": "https://localhost:8080/"
    },
    "id": "e6h_CN8norLp",
    "outputId": "e1352c28-94bc-4572-844e-f6a4e1bbe52d"
   },
   "outputs": [
    {
     "data": {
      "text/plain": [
       "[('direct', 0.4883764684200287),\n",
       " ('defraud', 0.4770340025424957),\n",
       " ('lovingkindness', 0.47489625215530396),\n",
       " ('brotherly', 0.47010743618011475),\n",
       " ('speeches', 0.46932876110076904),\n",
       " ('instruct', 0.46356064081192017),\n",
       " ('grant', 0.4588417410850525),\n",
       " ('specially', 0.4569951593875885),\n",
       " ('patient', 0.4567239582538605),\n",
       " ('confidence', 0.456155389547348)]"
      ]
     },
     "execution_count": 20,
     "metadata": {},
     "output_type": "execute_result"
    }
   ],
   "source": [
    "# Palabras que MÁS se relacionan con...:\n",
    "w2v_model.wv.most_similar(positive=[\"love\"], topn=10)"
   ]
  },
  {
   "cell_type": "markdown",
   "metadata": {
    "id": "xZzDHQ_XnKfQ"
   },
   "source": [
    "Vemos que las palabras más relacionadas coinciden bastante"
   ]
  },
  {
   "cell_type": "markdown",
   "metadata": {
    "id": "_g8UVWe6lFmh"
   },
   "source": [
    "### 5 - Visualizar agrupación de vectores"
   ]
  },
  {
   "cell_type": "code",
   "execution_count": 21,
   "metadata": {
    "id": "pDxEVXAivjr9"
   },
   "outputs": [],
   "source": [
    "from sklearn.decomposition import IncrementalPCA\n",
    "from sklearn.manifold import TSNE\n",
    "import numpy as np\n",
    "\n",
    "def reduce_dimensions(model, num_dimensions = 2 ):\n",
    "\n",
    "    vectors = np.asarray(model.wv.vectors)\n",
    "    labels = np.asarray(model.wv.index_to_key)\n",
    "\n",
    "    tsne = TSNE(n_components=num_dimensions, random_state=0)\n",
    "    vectors = tsne.fit_transform(vectors)\n",
    "\n",
    "    return vectors, labels"
   ]
  },
  {
   "cell_type": "code",
   "execution_count": 22,
   "metadata": {
    "colab": {
     "base_uri": "https://localhost:8080/",
     "height": 542
    },
    "id": "NCCXtDpcugmd",
    "outputId": "e1a8e5f6-6773-41ea-a90b-b91562fcdab6"
   },
   "outputs": [
    {
     "data": {
      "text/html": [
       "<html>\n",
       "<head><meta charset=\"utf-8\" /></head>\n",
       "<body>\n",
       "    <div>            <script src=\"https://cdnjs.cloudflare.com/ajax/libs/mathjax/2.7.5/MathJax.js?config=TeX-AMS-MML_SVG\"></script><script type=\"text/javascript\">if (window.MathJax && window.MathJax.Hub && window.MathJax.Hub.Config) {window.MathJax.Hub.Config({SVG: {font: \"STIX-Web\"}});}</script>                <script type=\"text/javascript\">window.PlotlyConfig = {MathJaxConfig: 'local'};</script>\n",
       "        <script charset=\"utf-8\" src=\"https://cdn.plot.ly/plotly-2.35.2.min.js\"></script>                <div id=\"0beb66e5-b0dc-44d0-8303-c91e2e3a3618\" class=\"plotly-graph-div\" style=\"height:525px; width:100%;\"></div>            <script type=\"text/javascript\">                                    window.PLOTLYENV=window.PLOTLYENV || {};                                    if (document.getElementById(\"0beb66e5-b0dc-44d0-8303-c91e2e3a3618\")) {                    Plotly.newPlot(                        \"0beb66e5-b0dc-44d0-8303-c91e2e3a3618\",                        [{\"hovertemplate\":\"x=%{x}\\u003cbr\\u003ey=%{y}\\u003cbr\\u003etext=%{text}\\u003cextra\\u003e\\u003c\\u002fextra\\u003e\",\"legendgroup\":\"\",\"marker\":{\"color\":\"#636efa\",\"symbol\":\"circle\"},\"mode\":\"markers+text\",\"name\":\"\",\"orientation\":\"v\",\"showlegend\":false,\"text\":[\"the\",\"and\",\"of\",\"to\",\"that\",\"in\",\"he\",\"shall\",\"unto\",\"for\",\"i\",\"his\",\"a\",\"lord\",\"they\",\"be\",\"is\",\"him\",\"not\",\"them\",\"it\",\"with\",\"all\",\"thou\",\"thy\",\"was\",\"god\",\"which\",\"my\",\"me\",\"said\",\"but\",\"ye\",\"their\",\"have\",\"will\",\"thee\",\"from\",\"as\",\"are\",\"when\",\"1\",\"this\",\"out\",\"were\",\"upon\",\"2\",\"you\",\"by\",\"man\",\"3\",\"israel\",\"4\",\"up\",\"son\",\"7\",\"5\",\"there\",\"6\",\"hath\",\"king\",\"9\",\"8\",\"then\",\"people\",\"10\",\"11\",\"came\",\"had\",\"house\",\"on\",\"into\",\"her\",\"come\",\"one\",\"12\",\"13\",\"14\",\"we\",\"children\",\"before\",\"15\",\"your\",\"also\",\"day\",\"land\",\"an\",\"16\",\"so\",\"against\",\"men\",\"shalt\",\"if\",\"18\",\"at\",\"19\",\"let\",\"17\",\"go\",\"20\",\"hand\",\"us\",\"21\",\"saying\",\"22\",\"made\",\"no\",\"went\",\"even\",\"do\",\"now\",\"behold\",\"23\",\"saith\",\"therefore\",\"every\",\"these\",\"because\",\"or\",\"24\",\"after\",\"our\",\"things\",\"down\",\"25\",\"hast\",\"sons\",\"o\",\"make\",\"say\",\"26\",\"may\",\"david\",\"over\",\"did\",\"earth\",\"what\",\"she\",\"father\",\"jesus\",\"who\",\"great\",\"27\",\"any\",\"thine\",\"name\",\"away\",\"among\",\"put\",\"thereof\",\"forth\",\"28\",\"give\",\"neither\",\"take\",\"am\",\"city\",\"brought\",\"days\",\"two\",\"moses\",\"pass\",\"heart\",\"judah\",\"jerusalem\",\"29\",\"according\",\"should\",\"know\",\"whom\",\"nor\",\"took\",\"thus\",\"30\",\"bring\",\"offering\",\"31\",\"good\",\"place\",\"set\",\"word\",\"more\",\"sent\",\"yet\",\"again\",\"like\",\"way\",\"eat\",\"32\",\"mine\",\"heard\",\"about\",\"called\",\"time\",\"evil\",\"egypt\",\"holy\",\"see\",\"own\",\"33\"],\"x\":[3.1322708,2.6205113,2.8847685,11.420045,-7.517248,17.300156,-25.295612,-8.121618,-14.863303,-1.5703913,-29.937626,34.794113,-3.159278,-8.168365,-4.2119904,-20.87368,-13.107787,-12.690763,-13.302212,8.200675,-10.154114,12.574977,4.693003,-30.062855,-2.451816,-4.66101,-7.077525,5.9928637,-1.7640059,-11.189024,-13.001849,-27.937386,-13.601519,36.235077,-11.772434,-21.555662,-7.1799774,-2.3221393,21.510405,1.0943872,-22.574123,-23.658607,-9.148614,16.52818,0.38615373,17.479116,-25.318644,-16.784277,12.301536,-28.384506,-24.235666,4.5898495,-24.556858,24.029547,-1.2082775,-28.42078,-25.133034,1.3771421,-25.219902,-18.440676,16.79908,-26.164276,-25.753283,-24.300817,-1.4573622,-25.15193,-23.99692,6.6460342,-9.654876,-2.865693,22.752298,15.04352,0.40420154,-24.374527,1.644366,-24.708624,-24.275173,-26.966646,-17.912535,10.571459,-18.710588,-28.14504,-15.580201,0.9394163,29.958998,12.9279375,-4.9253597,-25.48015,-25.008392,-22.299273,-4.7779746,-31.998922,-33.22405,-25.237917,7.938898,-25.310158,-25.387604,-28.203722,-37.770634,-27.676184,32.08692,-7.6172247,-25.205847,-16.611347,-27.333181,-9.015898,-16.080732,-3.815789,6.333113,-27.16679,-24.5043,-25.93722,-27.68392,-30.71923,-31.812256,0.40628052,-16.377253,-17.687664,-40.93936,-25.03917,-7.1330233,-4.6324806,-0.43635705,37.43649,-25.048271,-34.05859,7.668566,-33.38378,-36.45561,-31.58597,-24.034998,-9.914604,4.4960546,17.910376,-11.340224,20.712423,-15.9765415,-5.0628147,-20.873758,-16.510141,-21.30474,-1.7517734,-24.65841,-19.667,-34.871117,-8.682181,-6.84191,4.761125,15.784434,22.641838,2.4698782,-25.55719,-30.051325,-32.1989,-26.045807,-25.628223,12.592503,-3.8975425,22.341566,12.017006,-23.218979,9.958711,3.57114,15.0889015,13.589402,-29.975851,-26.034185,-28.326363,-22.596277,-12.021431,9.168657,-7.493602,-23.288092,-27.978762,-28.087029,25.05504,-30.799795,-9.4386635,5.155711,12.457828,-6.356051,2.7554038,-14.534262,-23.465729,-16.254637,22.73681,-8.923534,20.140623,-29.22088,3.134462,-18.13907,27.221247,-12.224626,6.2459583,-17.834127,6.258035,27.755772,-26.228542,5.812972,-30.8543],\"xaxis\":\"x\",\"y\":[-3.3292367,-10.57291,-3.063502,37.702415,16.908981,-5.7319293,-12.564416,11.209289,-16.04031,13.797227,-19.308142,4.0371156,2.0608618,17.845121,-15.145384,16.93372,29.603987,-8.716664,17.041155,-3.6704707,8.63961,20.102936,-6.899889,8.473002,10.887987,-21.303383,14.628568,3.6948998,20.04958,4.9490647,-31.909191,-17.083822,14.689574,0.7842366,7.990842,26.225363,9.184559,14.138023,15.536384,-0.95683783,-21.674955,-24.821297,11.531133,-1.671758,-8.061245,9.14857,-22.788816,15.921553,6.4251895,-2.6803467,-22.72981,-24.091494,-22.690931,-11.738083,-42.017437,-21.849463,-21.981716,2.5623324,-20.859318,27.737043,-25.881409,-22.638226,-22.462114,-25.6302,6.0563574,-23.383165,-23.544846,-13.704443,-3.27517,0.009291006,2.7178812,-0.3832553,-26.555485,5.6606226,10.767859,-23.635136,-23.854795,-22.689943,16.535776,-39.534065,-17.537428,-22.564152,17.938082,-9.470249,-29.235626,-9.614157,-2.822553,-23.934784,-14.719195,-9.448067,2.6203125,8.389064,-16.471771,-25.217693,-11.794377,-26.936367,12.595462,-23.343636,7.1560693,-23.319378,14.333309,10.098742,-24.193401,-16.280104,-23.207615,-4.6165814,7.538226,-17.262022,-5.8421555,10.961985,-26.512938,-22.012722,-22.644945,2.2820902,-22.006956,10.063168,-18.280262,-5.9616714,1.2588989,-25.779215,12.292131,13.868053,-1.2479389,19.16523,-27.708908,5.9588895,-44.768524,3.9677444,17.1128,17.489445,-24.345242,17.70863,-29.363844,-24.364214,-7.9577217,1.5308691,13.45704,-28.215729,-23.24307,-28.448217,-19.122923,29.332054,-24.865189,16.888231,11.299842,-25.466032,8.480457,10.522739,31.795975,-3.788215,-15.455095,-26.180618,18.80386,27.725775,18.927538,11.18937,-2.6211505,-13.713951,-37.120304,-22.335236,-25.904093,-5.770789,19.53872,-28.415295,-12.535089,-27.680422,29.690254,4.422233,18.02252,4.6648607,26.471449,-14.314673,-27.283571,-23.556913,21.007946,25.189781,-28.411121,28.445766,-13.513511,4.303819,0.77644217,31.657146,-8.333587,7.2781897,-15.891592,16.607826,16.29153,27.998909,-28.831573,15.988157,-7.456678,-4.256,-36.289368,-7.521874,14.602085,-16.376675,30.374342,18.913486,19.29147,-27.619186],\"yaxis\":\"y\",\"type\":\"scatter\"}],                        {\"template\":{\"data\":{\"histogram2dcontour\":[{\"type\":\"histogram2dcontour\",\"colorbar\":{\"outlinewidth\":0,\"ticks\":\"\"},\"colorscale\":[[0.0,\"#0d0887\"],[0.1111111111111111,\"#46039f\"],[0.2222222222222222,\"#7201a8\"],[0.3333333333333333,\"#9c179e\"],[0.4444444444444444,\"#bd3786\"],[0.5555555555555556,\"#d8576b\"],[0.6666666666666666,\"#ed7953\"],[0.7777777777777778,\"#fb9f3a\"],[0.8888888888888888,\"#fdca26\"],[1.0,\"#f0f921\"]]}],\"choropleth\":[{\"type\":\"choropleth\",\"colorbar\":{\"outlinewidth\":0,\"ticks\":\"\"}}],\"histogram2d\":[{\"type\":\"histogram2d\",\"colorbar\":{\"outlinewidth\":0,\"ticks\":\"\"},\"colorscale\":[[0.0,\"#0d0887\"],[0.1111111111111111,\"#46039f\"],[0.2222222222222222,\"#7201a8\"],[0.3333333333333333,\"#9c179e\"],[0.4444444444444444,\"#bd3786\"],[0.5555555555555556,\"#d8576b\"],[0.6666666666666666,\"#ed7953\"],[0.7777777777777778,\"#fb9f3a\"],[0.8888888888888888,\"#fdca26\"],[1.0,\"#f0f921\"]]}],\"heatmap\":[{\"type\":\"heatmap\",\"colorbar\":{\"outlinewidth\":0,\"ticks\":\"\"},\"colorscale\":[[0.0,\"#0d0887\"],[0.1111111111111111,\"#46039f\"],[0.2222222222222222,\"#7201a8\"],[0.3333333333333333,\"#9c179e\"],[0.4444444444444444,\"#bd3786\"],[0.5555555555555556,\"#d8576b\"],[0.6666666666666666,\"#ed7953\"],[0.7777777777777778,\"#fb9f3a\"],[0.8888888888888888,\"#fdca26\"],[1.0,\"#f0f921\"]]}],\"heatmapgl\":[{\"type\":\"heatmapgl\",\"colorbar\":{\"outlinewidth\":0,\"ticks\":\"\"},\"colorscale\":[[0.0,\"#0d0887\"],[0.1111111111111111,\"#46039f\"],[0.2222222222222222,\"#7201a8\"],[0.3333333333333333,\"#9c179e\"],[0.4444444444444444,\"#bd3786\"],[0.5555555555555556,\"#d8576b\"],[0.6666666666666666,\"#ed7953\"],[0.7777777777777778,\"#fb9f3a\"],[0.8888888888888888,\"#fdca26\"],[1.0,\"#f0f921\"]]}],\"contourcarpet\":[{\"type\":\"contourcarpet\",\"colorbar\":{\"outlinewidth\":0,\"ticks\":\"\"}}],\"contour\":[{\"type\":\"contour\",\"colorbar\":{\"outlinewidth\":0,\"ticks\":\"\"},\"colorscale\":[[0.0,\"#0d0887\"],[0.1111111111111111,\"#46039f\"],[0.2222222222222222,\"#7201a8\"],[0.3333333333333333,\"#9c179e\"],[0.4444444444444444,\"#bd3786\"],[0.5555555555555556,\"#d8576b\"],[0.6666666666666666,\"#ed7953\"],[0.7777777777777778,\"#fb9f3a\"],[0.8888888888888888,\"#fdca26\"],[1.0,\"#f0f921\"]]}],\"surface\":[{\"type\":\"surface\",\"colorbar\":{\"outlinewidth\":0,\"ticks\":\"\"},\"colorscale\":[[0.0,\"#0d0887\"],[0.1111111111111111,\"#46039f\"],[0.2222222222222222,\"#7201a8\"],[0.3333333333333333,\"#9c179e\"],[0.4444444444444444,\"#bd3786\"],[0.5555555555555556,\"#d8576b\"],[0.6666666666666666,\"#ed7953\"],[0.7777777777777778,\"#fb9f3a\"],[0.8888888888888888,\"#fdca26\"],[1.0,\"#f0f921\"]]}],\"mesh3d\":[{\"type\":\"mesh3d\",\"colorbar\":{\"outlinewidth\":0,\"ticks\":\"\"}}],\"scatter\":[{\"fillpattern\":{\"fillmode\":\"overlay\",\"size\":10,\"solidity\":0.2},\"type\":\"scatter\"}],\"parcoords\":[{\"type\":\"parcoords\",\"line\":{\"colorbar\":{\"outlinewidth\":0,\"ticks\":\"\"}}}],\"scatterpolargl\":[{\"type\":\"scatterpolargl\",\"marker\":{\"colorbar\":{\"outlinewidth\":0,\"ticks\":\"\"}}}],\"bar\":[{\"error_x\":{\"color\":\"#2a3f5f\"},\"error_y\":{\"color\":\"#2a3f5f\"},\"marker\":{\"line\":{\"color\":\"#E5ECF6\",\"width\":0.5},\"pattern\":{\"fillmode\":\"overlay\",\"size\":10,\"solidity\":0.2}},\"type\":\"bar\"}],\"scattergeo\":[{\"type\":\"scattergeo\",\"marker\":{\"colorbar\":{\"outlinewidth\":0,\"ticks\":\"\"}}}],\"scatterpolar\":[{\"type\":\"scatterpolar\",\"marker\":{\"colorbar\":{\"outlinewidth\":0,\"ticks\":\"\"}}}],\"histogram\":[{\"marker\":{\"pattern\":{\"fillmode\":\"overlay\",\"size\":10,\"solidity\":0.2}},\"type\":\"histogram\"}],\"scattergl\":[{\"type\":\"scattergl\",\"marker\":{\"colorbar\":{\"outlinewidth\":0,\"ticks\":\"\"}}}],\"scatter3d\":[{\"type\":\"scatter3d\",\"line\":{\"colorbar\":{\"outlinewidth\":0,\"ticks\":\"\"}},\"marker\":{\"colorbar\":{\"outlinewidth\":0,\"ticks\":\"\"}}}],\"scattermapbox\":[{\"type\":\"scattermapbox\",\"marker\":{\"colorbar\":{\"outlinewidth\":0,\"ticks\":\"\"}}}],\"scatterternary\":[{\"type\":\"scatterternary\",\"marker\":{\"colorbar\":{\"outlinewidth\":0,\"ticks\":\"\"}}}],\"scattercarpet\":[{\"type\":\"scattercarpet\",\"marker\":{\"colorbar\":{\"outlinewidth\":0,\"ticks\":\"\"}}}],\"carpet\":[{\"aaxis\":{\"endlinecolor\":\"#2a3f5f\",\"gridcolor\":\"white\",\"linecolor\":\"white\",\"minorgridcolor\":\"white\",\"startlinecolor\":\"#2a3f5f\"},\"baxis\":{\"endlinecolor\":\"#2a3f5f\",\"gridcolor\":\"white\",\"linecolor\":\"white\",\"minorgridcolor\":\"white\",\"startlinecolor\":\"#2a3f5f\"},\"type\":\"carpet\"}],\"table\":[{\"cells\":{\"fill\":{\"color\":\"#EBF0F8\"},\"line\":{\"color\":\"white\"}},\"header\":{\"fill\":{\"color\":\"#C8D4E3\"},\"line\":{\"color\":\"white\"}},\"type\":\"table\"}],\"barpolar\":[{\"marker\":{\"line\":{\"color\":\"#E5ECF6\",\"width\":0.5},\"pattern\":{\"fillmode\":\"overlay\",\"size\":10,\"solidity\":0.2}},\"type\":\"barpolar\"}],\"pie\":[{\"automargin\":true,\"type\":\"pie\"}]},\"layout\":{\"autotypenumbers\":\"strict\",\"colorway\":[\"#636efa\",\"#EF553B\",\"#00cc96\",\"#ab63fa\",\"#FFA15A\",\"#19d3f3\",\"#FF6692\",\"#B6E880\",\"#FF97FF\",\"#FECB52\"],\"font\":{\"color\":\"#2a3f5f\"},\"hovermode\":\"closest\",\"hoverlabel\":{\"align\":\"left\"},\"paper_bgcolor\":\"white\",\"plot_bgcolor\":\"#E5ECF6\",\"polar\":{\"bgcolor\":\"#E5ECF6\",\"angularaxis\":{\"gridcolor\":\"white\",\"linecolor\":\"white\",\"ticks\":\"\"},\"radialaxis\":{\"gridcolor\":\"white\",\"linecolor\":\"white\",\"ticks\":\"\"}},\"ternary\":{\"bgcolor\":\"#E5ECF6\",\"aaxis\":{\"gridcolor\":\"white\",\"linecolor\":\"white\",\"ticks\":\"\"},\"baxis\":{\"gridcolor\":\"white\",\"linecolor\":\"white\",\"ticks\":\"\"},\"caxis\":{\"gridcolor\":\"white\",\"linecolor\":\"white\",\"ticks\":\"\"}},\"coloraxis\":{\"colorbar\":{\"outlinewidth\":0,\"ticks\":\"\"}},\"colorscale\":{\"sequential\":[[0.0,\"#0d0887\"],[0.1111111111111111,\"#46039f\"],[0.2222222222222222,\"#7201a8\"],[0.3333333333333333,\"#9c179e\"],[0.4444444444444444,\"#bd3786\"],[0.5555555555555556,\"#d8576b\"],[0.6666666666666666,\"#ed7953\"],[0.7777777777777778,\"#fb9f3a\"],[0.8888888888888888,\"#fdca26\"],[1.0,\"#f0f921\"]],\"sequentialminus\":[[0.0,\"#0d0887\"],[0.1111111111111111,\"#46039f\"],[0.2222222222222222,\"#7201a8\"],[0.3333333333333333,\"#9c179e\"],[0.4444444444444444,\"#bd3786\"],[0.5555555555555556,\"#d8576b\"],[0.6666666666666666,\"#ed7953\"],[0.7777777777777778,\"#fb9f3a\"],[0.8888888888888888,\"#fdca26\"],[1.0,\"#f0f921\"]],\"diverging\":[[0,\"#8e0152\"],[0.1,\"#c51b7d\"],[0.2,\"#de77ae\"],[0.3,\"#f1b6da\"],[0.4,\"#fde0ef\"],[0.5,\"#f7f7f7\"],[0.6,\"#e6f5d0\"],[0.7,\"#b8e186\"],[0.8,\"#7fbc41\"],[0.9,\"#4d9221\"],[1,\"#276419\"]]},\"xaxis\":{\"gridcolor\":\"white\",\"linecolor\":\"white\",\"ticks\":\"\",\"title\":{\"standoff\":15},\"zerolinecolor\":\"white\",\"automargin\":true,\"zerolinewidth\":2},\"yaxis\":{\"gridcolor\":\"white\",\"linecolor\":\"white\",\"ticks\":\"\",\"title\":{\"standoff\":15},\"zerolinecolor\":\"white\",\"automargin\":true,\"zerolinewidth\":2},\"scene\":{\"xaxis\":{\"backgroundcolor\":\"#E5ECF6\",\"gridcolor\":\"white\",\"linecolor\":\"white\",\"showbackground\":true,\"ticks\":\"\",\"zerolinecolor\":\"white\",\"gridwidth\":2},\"yaxis\":{\"backgroundcolor\":\"#E5ECF6\",\"gridcolor\":\"white\",\"linecolor\":\"white\",\"showbackground\":true,\"ticks\":\"\",\"zerolinecolor\":\"white\",\"gridwidth\":2},\"zaxis\":{\"backgroundcolor\":\"#E5ECF6\",\"gridcolor\":\"white\",\"linecolor\":\"white\",\"showbackground\":true,\"ticks\":\"\",\"zerolinecolor\":\"white\",\"gridwidth\":2}},\"shapedefaults\":{\"line\":{\"color\":\"#2a3f5f\"}},\"annotationdefaults\":{\"arrowcolor\":\"#2a3f5f\",\"arrowhead\":0,\"arrowwidth\":1},\"geo\":{\"bgcolor\":\"white\",\"landcolor\":\"#E5ECF6\",\"subunitcolor\":\"white\",\"showland\":true,\"showlakes\":true,\"lakecolor\":\"white\"},\"title\":{\"x\":0.05},\"mapbox\":{\"style\":\"light\"}}},\"xaxis\":{\"anchor\":\"y\",\"domain\":[0.0,1.0],\"title\":{\"text\":\"x\"}},\"yaxis\":{\"anchor\":\"x\",\"domain\":[0.0,1.0],\"title\":{\"text\":\"y\"}},\"legend\":{\"tracegroupgap\":0},\"margin\":{\"t\":60}},                        {\"responsive\": true}                    ).then(function(){\n",
       "                            \n",
       "var gd = document.getElementById('0beb66e5-b0dc-44d0-8303-c91e2e3a3618');\n",
       "var x = new MutationObserver(function (mutations, observer) {{\n",
       "        var display = window.getComputedStyle(gd).display;\n",
       "        if (!display || display === 'none') {{\n",
       "            console.log([gd, 'removed!']);\n",
       "            Plotly.purge(gd);\n",
       "            observer.disconnect();\n",
       "        }}\n",
       "}});\n",
       "\n",
       "// Listen for the removal of the full notebook cells\n",
       "var notebookContainer = gd.closest('#notebook-container');\n",
       "if (notebookContainer) {{\n",
       "    x.observe(notebookContainer, {childList: true});\n",
       "}}\n",
       "\n",
       "// Listen for the clearing of the current output cell\n",
       "var outputEl = gd.closest('.output');\n",
       "if (outputEl) {{\n",
       "    x.observe(outputEl, {childList: true});\n",
       "}}\n",
       "\n",
       "                        })                };                            </script>        </div>\n",
       "</body>\n",
       "</html>"
      ]
     },
     "metadata": {},
     "output_type": "display_data"
    }
   ],
   "source": [
    "# Graficar los embedddings en 2D\n",
    "import plotly.graph_objects as go\n",
    "import plotly.express as px\n",
    "\n",
    "vecs, labels = reduce_dimensions(w2v_model)\n",
    "\n",
    "MAX_WORDS=200\n",
    "fig = px.scatter(x=vecs[:MAX_WORDS,0], y=vecs[:MAX_WORDS,1], text=labels[:MAX_WORDS])\n",
    "fig.show(renderer=\"colab\") # esto para plotly en colab"
   ]
  },
  {
   "cell_type": "code",
   "execution_count": 23,
   "metadata": {
    "colab": {
     "base_uri": "https://localhost:8080/",
     "height": 542
    },
    "id": "VKrfwDSIorLq",
    "outputId": "0d2eeacb-e580-498a-c2b2-8af9accfa6a0"
   },
   "outputs": [
    {
     "data": {
      "text/html": [
       "<html>\n",
       "<head><meta charset=\"utf-8\" /></head>\n",
       "<body>\n",
       "    <div>            <script src=\"https://cdnjs.cloudflare.com/ajax/libs/mathjax/2.7.5/MathJax.js?config=TeX-AMS-MML_SVG\"></script><script type=\"text/javascript\">if (window.MathJax && window.MathJax.Hub && window.MathJax.Hub.Config) {window.MathJax.Hub.Config({SVG: {font: \"STIX-Web\"}});}</script>                <script type=\"text/javascript\">window.PlotlyConfig = {MathJaxConfig: 'local'};</script>\n",
       "        <script charset=\"utf-8\" src=\"https://cdn.plot.ly/plotly-2.35.2.min.js\"></script>                <div id=\"baf10150-e859-41dc-b5cc-5be1de6baa73\" class=\"plotly-graph-div\" style=\"height:525px; width:100%;\"></div>            <script type=\"text/javascript\">                                    window.PLOTLYENV=window.PLOTLYENV || {};                                    if (document.getElementById(\"baf10150-e859-41dc-b5cc-5be1de6baa73\")) {                    Plotly.newPlot(                        \"baf10150-e859-41dc-b5cc-5be1de6baa73\",                        [{\"hovertemplate\":\"x=%{x}\\u003cbr\\u003ey=%{y}\\u003cbr\\u003ez=%{z}\\u003cbr\\u003etext=%{text}\\u003cextra\\u003e\\u003c\\u002fextra\\u003e\",\"legendgroup\":\"\",\"marker\":{\"color\":\"#636efa\",\"symbol\":\"circle\",\"size\":2},\"mode\":\"markers+text\",\"name\":\"\",\"scene\":\"scene\",\"showlegend\":false,\"text\":[\"the\",\"and\",\"of\",\"to\",\"that\",\"in\",\"he\",\"shall\",\"unto\",\"for\",\"i\",\"his\",\"a\",\"lord\",\"they\",\"be\",\"is\",\"him\",\"not\",\"them\",\"it\",\"with\",\"all\",\"thou\",\"thy\",\"was\",\"god\",\"which\",\"my\",\"me\",\"said\",\"but\",\"ye\",\"their\",\"have\",\"will\",\"thee\",\"from\",\"as\",\"are\",\"when\",\"1\",\"this\",\"out\",\"were\",\"upon\",\"2\",\"you\",\"by\",\"man\",\"3\",\"israel\",\"4\",\"up\",\"son\",\"7\",\"5\",\"there\",\"6\",\"hath\",\"king\",\"9\",\"8\",\"then\",\"people\",\"10\",\"11\",\"came\",\"had\",\"house\",\"on\",\"into\",\"her\",\"come\",\"one\",\"12\",\"13\",\"14\",\"we\",\"children\",\"before\",\"15\",\"your\",\"also\",\"day\",\"land\",\"an\",\"16\",\"so\",\"against\",\"men\",\"shalt\",\"if\",\"18\",\"at\",\"19\",\"let\",\"17\",\"go\",\"20\",\"hand\",\"us\",\"21\",\"saying\",\"22\",\"made\",\"no\",\"went\",\"even\",\"do\",\"now\",\"behold\",\"23\",\"saith\",\"therefore\",\"every\",\"these\",\"because\",\"or\",\"24\",\"after\",\"our\",\"things\",\"down\",\"25\",\"hast\",\"sons\",\"o\",\"make\",\"say\",\"26\",\"may\",\"david\",\"over\",\"did\",\"earth\",\"what\",\"she\",\"father\",\"jesus\",\"who\",\"great\",\"27\",\"any\",\"thine\",\"name\",\"away\",\"among\",\"put\",\"thereof\",\"forth\",\"28\",\"give\",\"neither\",\"take\",\"am\",\"city\",\"brought\",\"days\",\"two\",\"moses\",\"pass\",\"heart\",\"judah\",\"jerusalem\",\"29\",\"according\",\"should\",\"know\",\"whom\",\"nor\",\"took\",\"thus\",\"30\",\"bring\",\"offering\",\"31\",\"good\",\"place\",\"set\",\"word\",\"more\",\"sent\",\"yet\",\"again\",\"like\",\"way\",\"eat\",\"32\",\"mine\",\"heard\",\"about\",\"called\",\"time\",\"evil\",\"egypt\",\"holy\",\"see\",\"own\",\"33\"],\"x\":[4.534801,12.555432,3.001522,-6.935341,-15.344374,7.456888,-4.744851,-16.252857,-6.115872,-6.054209,-5.5017967,6.001467,-13.537116,-10.067533,3.6288638,-28.787397,-20.745853,-13.06793,-22.7479,0.6669195,-20.462915,-11.595918,3.7187548,-23.654688,-2.427551,12.975,-9.839198,-6.974863,-8.624053,-16.670637,23.365488,-0.94552106,-18.85176,16.411263,-14.419004,-35.970737,-18.744528,-10.484267,0.5199996,15.0398445,4.086991,1.7511536,-24.105808,7.4481454,13.353746,9.177411,1.5112888,-27.53668,10.580175,-11.650719,1.6721128,-6.424233,0.1563494,27.456217,28.357986,-6.6513443,2.3824503,-16.50818,-3.9175425,-34.6517,15.57908,-2.8903913,-1.82757,8.452597,-7.9173365,-0.5316478,4.007369,12.912766,-6.2485957,-0.18741898,11.265103,6.592943,15.89889,-14.518944,-3.0546348,-0.25386798,2.4588957,-5.026344,-6.367359,37.81993,12.448175,-6.393403,-26.784006,6.4542074,32.531937,12.48387,1.8361546,-0.66812205,-6.1017585,-17.449596,12.469767,-25.450808,-15.442289,-4.7726493,12.328529,-2.2591035,-28.719702,-2.9823987,-19.727697,-2.965064,7.642944,-14.982869,-0.065898426,-2.175841,-2.9091089,-12.337964,-20.756441,1.3700875,0.2576061,-37.634426,6.206439,2.1363335,-3.4378843,-15.622684,7.0933166,-4.1556654,0.31309068,-34.789062,-6.567293,6.427419,-5.5018134,-3.3358886,-3.652137,12.869687,7.568311,-25.263,41.57939,-19.211174,-45.903008,-44.005646,5.8598347,-13.31302,25.617031,7.7740364,-7.976889,12.473662,-10.893182,21.297264,8.677301,12.610747,5.2624626,-13.45794,2.3735445,-25.986612,-23.786709,19.860546,-16.381153,-5.9416957,-16.91757,32.868492,2.100532,3.5983486,-41.095875,-33.521194,-37.022198,-16.652584,2.8327162,3.9244647,36.981358,30.140911,6.455125,7.869863,-2.083081,17.062237,15.100483,-8.351653,-33.936527,-31.535793,-36.802135,-17.775475,-21.591478,25.051874,11.683556,-6.5970902,-42.07263,0.9120125,3.1480403,-26.042974,20.95681,-7.064012,-7.2020845,-15.858658,-5.2723265,-11.432254,-5.5768085,2.373012,-13.473466,-4.927707,-4.8370795,-1.2083627,-14.883872,27.381565,13.94215,6.1041646,-30.09328,13.681449,11.219602,-36.38886,1.9066621,8.949702],\"y\":[-5.8092666,2.5549166,-5.70612,-9.5464945,-7.489468,7.729633,-39.254425,5.899696,-24.312878,0.7475564,-41.715893,7.867223,20.967447,-12.757015,-15.003308,3.3985362,20.86838,-13.983735,2.2077005,-0.25936207,3.973002,21.31333,-12.819776,-19.725204,19.30729,-10.962499,-5.791444,5.5910907,10.520319,-14.632776,-33.022182,-40.253494,-13.55298,4.2758265,-15.426872,5.618725,-16.693968,-32.840076,25.34581,-3.5695844,-32.685356,-40.55893,-22.987955,0.90355223,-5.7033644,18.732798,-32.84112,-9.8976,9.742812,-10.055095,-29.632322,-21.49391,-31.067976,12.947566,-21.65465,-41.795055,-36.41568,6.6009946,-35.82077,19.008852,-26.305235,-35.39526,-38.032745,-35.550106,-2.9767604,-34.090107,-31.955275,-17.219677,-9.954272,-5.4453006,15.372646,9.9203005,-10.274169,0.3104418,-0.42575517,-31.75405,-33.517067,-38.00298,-5.9727187,-0.0715031,-28.810844,-37.921207,-5.1968155,-18.671988,-4.9331794,-3.9025857,-10.106954,-37.115524,-30.266209,-27.734865,-35.384697,-23.00315,-42.951088,-40.476624,-13.916181,-42.299362,-14.040949,-40.705757,-28.864458,-38.48913,19.766777,-11.920745,-35.950684,-27.82717,-34.609604,9.1893425,-1.6603484,-28.033012,-7.3364882,-10.932833,-38.171646,-29.45673,-36.621525,-36.541943,-42.51835,3.7705872,-24.855747,-14.241785,44.234543,-35.824005,-22.827871,-4.8652463,-13.929673,11.822165,-39.536163,-29.053305,-7.3842254,-27.843985,-1.0754216,-7.1586356,-31.913074,-14.738206,-26.703197,-26.570156,-14.746713,17.21768,-30.56477,-13.044656,-37.75893,-31.001627,-35.859478,11.0504875,-36.40235,1.1099216,-24.012531,-25.07261,14.063616,12.850152,-6.16478,11.926713,-9.556821,-37.728996,-2.1985245,18.345533,-3.9592814,-16.142769,-0.707848,-12.434668,1.90533,17.319578,-36.332912,-20.326113,10.004851,-8.6889715,-3.6364107,-41.568077,-0.1963241,-19.885529,-12.760288,-17.636896,30.12851,-19.300999,-37.851997,-39.558582,1.5696144,40.401936,-51.29242,11.371214,-0.5548215,16.956665,-9.714265,31.948866,-16.82353,-8.513412,-26.076939,33.25336,-14.13907,40.070442,-46.6992,13.924317,-19.957247,9.986439,-30.77168,-11.539436,-11.669564,-8.143412,-0.21756853,-3.8297732,10.191277,-49.476753],\"z\":[10.424664,-2.5289066,12.218702,12.062284,20.001259,-16.052742,-20.866835,7.5442433,0.55334413,9.785424,14.227773,6.5681024,6.969086,17.552553,-12.200609,0.98704815,6.459514,-0.7697344,11.207975,-4.4551163,0.17449667,0.34769142,5.852754,3.889537,17.974566,14.085669,16.745222,-14.067118,11.64033,1.4068247,11.675865,18.005543,18.768885,19.923355,-7.0467315,16.383526,3.5902195,24.331068,-17.483004,26.706203,-9.537169,9.424239,29.47488,-35.821777,15.442992,-3.2043498,7.5370593,11.686064,-4.6932173,2.4071076,-1.695211,12.762847,0.045394838,-21.495594,-2.200834,4.040241,9.05016,-14.561108,8.488212,12.467327,-19.413607,3.513278,6.2368746,2.4031549,1.0749393,-1.9376887,-1.8210179,-2.898498,-19.506706,19.181799,-0.855829,-27.465908,10.137881,-40.431187,7.5745754,-4.3144,-5.496003,4.0331774,16.696033,-1.0270478,25.524355,-3.7905066,27.208035,18.389019,-26.344662,-22.96446,14.912333,-3.1387324,8.426878,-23.187218,-14.938098,6.3911266,3.7139544,7.656843,-1.2029347,8.784333,27.788742,3.7702603,-2.3180144,-5.5786896,21.293116,3.4358368,-7.1409855,-3.1825938,-4.8228564,-13.646797,-8.296145,-19.71024,-1.6766921,7.4925733,9.427666,3.3958864,-1.4619182,4.185665,7.8169475,6.342769,3.7907066,-6.6107593,2.5948665,-5.436211,32.422615,14.88127,32.491405,35.944515,-8.538367,12.975608,12.196079,13.385445,-6.712538,3.5029263,-4.803738,18.883486,-22.90838,-14.797069,-25.860596,-7.9020066,9.6944895,25.021524,17.064548,8.201141,21.651546,40.10823,-3.55035,6.360036,13.968773,24.748043,-24.181456,7.5781302,-30.150095,-3.3389666,-21.186272,-6.772219,5.2402954,-20.07473,9.022429,22.318232,-15.874916,-30.576172,-24.851894,3.7156098,4.9851494,6.1724653,26.960949,-27.079584,-14.557605,-0.85780597,22.485607,0.30644715,17.999973,-1.3528714,-3.5503793,25.276926,10.1507015,0.08525519,-1.3735566,10.244577,-4.541044,26.058784,37.070946,-41.118744,24.765886,15.655886,-13.633255,11.501952,-3.4029498,-13.463579,39.72117,-3.6074865,5.1281857,24.0742,-16.880836,-7.9631767,19.808498,1.7513888,3.103175,-24.305439,28.764921,12.3278475,34.320225,-0.39795864],\"type\":\"scatter3d\"}],                        {\"template\":{\"data\":{\"histogram2dcontour\":[{\"type\":\"histogram2dcontour\",\"colorbar\":{\"outlinewidth\":0,\"ticks\":\"\"},\"colorscale\":[[0.0,\"#0d0887\"],[0.1111111111111111,\"#46039f\"],[0.2222222222222222,\"#7201a8\"],[0.3333333333333333,\"#9c179e\"],[0.4444444444444444,\"#bd3786\"],[0.5555555555555556,\"#d8576b\"],[0.6666666666666666,\"#ed7953\"],[0.7777777777777778,\"#fb9f3a\"],[0.8888888888888888,\"#fdca26\"],[1.0,\"#f0f921\"]]}],\"choropleth\":[{\"type\":\"choropleth\",\"colorbar\":{\"outlinewidth\":0,\"ticks\":\"\"}}],\"histogram2d\":[{\"type\":\"histogram2d\",\"colorbar\":{\"outlinewidth\":0,\"ticks\":\"\"},\"colorscale\":[[0.0,\"#0d0887\"],[0.1111111111111111,\"#46039f\"],[0.2222222222222222,\"#7201a8\"],[0.3333333333333333,\"#9c179e\"],[0.4444444444444444,\"#bd3786\"],[0.5555555555555556,\"#d8576b\"],[0.6666666666666666,\"#ed7953\"],[0.7777777777777778,\"#fb9f3a\"],[0.8888888888888888,\"#fdca26\"],[1.0,\"#f0f921\"]]}],\"heatmap\":[{\"type\":\"heatmap\",\"colorbar\":{\"outlinewidth\":0,\"ticks\":\"\"},\"colorscale\":[[0.0,\"#0d0887\"],[0.1111111111111111,\"#46039f\"],[0.2222222222222222,\"#7201a8\"],[0.3333333333333333,\"#9c179e\"],[0.4444444444444444,\"#bd3786\"],[0.5555555555555556,\"#d8576b\"],[0.6666666666666666,\"#ed7953\"],[0.7777777777777778,\"#fb9f3a\"],[0.8888888888888888,\"#fdca26\"],[1.0,\"#f0f921\"]]}],\"heatmapgl\":[{\"type\":\"heatmapgl\",\"colorbar\":{\"outlinewidth\":0,\"ticks\":\"\"},\"colorscale\":[[0.0,\"#0d0887\"],[0.1111111111111111,\"#46039f\"],[0.2222222222222222,\"#7201a8\"],[0.3333333333333333,\"#9c179e\"],[0.4444444444444444,\"#bd3786\"],[0.5555555555555556,\"#d8576b\"],[0.6666666666666666,\"#ed7953\"],[0.7777777777777778,\"#fb9f3a\"],[0.8888888888888888,\"#fdca26\"],[1.0,\"#f0f921\"]]}],\"contourcarpet\":[{\"type\":\"contourcarpet\",\"colorbar\":{\"outlinewidth\":0,\"ticks\":\"\"}}],\"contour\":[{\"type\":\"contour\",\"colorbar\":{\"outlinewidth\":0,\"ticks\":\"\"},\"colorscale\":[[0.0,\"#0d0887\"],[0.1111111111111111,\"#46039f\"],[0.2222222222222222,\"#7201a8\"],[0.3333333333333333,\"#9c179e\"],[0.4444444444444444,\"#bd3786\"],[0.5555555555555556,\"#d8576b\"],[0.6666666666666666,\"#ed7953\"],[0.7777777777777778,\"#fb9f3a\"],[0.8888888888888888,\"#fdca26\"],[1.0,\"#f0f921\"]]}],\"surface\":[{\"type\":\"surface\",\"colorbar\":{\"outlinewidth\":0,\"ticks\":\"\"},\"colorscale\":[[0.0,\"#0d0887\"],[0.1111111111111111,\"#46039f\"],[0.2222222222222222,\"#7201a8\"],[0.3333333333333333,\"#9c179e\"],[0.4444444444444444,\"#bd3786\"],[0.5555555555555556,\"#d8576b\"],[0.6666666666666666,\"#ed7953\"],[0.7777777777777778,\"#fb9f3a\"],[0.8888888888888888,\"#fdca26\"],[1.0,\"#f0f921\"]]}],\"mesh3d\":[{\"type\":\"mesh3d\",\"colorbar\":{\"outlinewidth\":0,\"ticks\":\"\"}}],\"scatter\":[{\"fillpattern\":{\"fillmode\":\"overlay\",\"size\":10,\"solidity\":0.2},\"type\":\"scatter\"}],\"parcoords\":[{\"type\":\"parcoords\",\"line\":{\"colorbar\":{\"outlinewidth\":0,\"ticks\":\"\"}}}],\"scatterpolargl\":[{\"type\":\"scatterpolargl\",\"marker\":{\"colorbar\":{\"outlinewidth\":0,\"ticks\":\"\"}}}],\"bar\":[{\"error_x\":{\"color\":\"#2a3f5f\"},\"error_y\":{\"color\":\"#2a3f5f\"},\"marker\":{\"line\":{\"color\":\"#E5ECF6\",\"width\":0.5},\"pattern\":{\"fillmode\":\"overlay\",\"size\":10,\"solidity\":0.2}},\"type\":\"bar\"}],\"scattergeo\":[{\"type\":\"scattergeo\",\"marker\":{\"colorbar\":{\"outlinewidth\":0,\"ticks\":\"\"}}}],\"scatterpolar\":[{\"type\":\"scatterpolar\",\"marker\":{\"colorbar\":{\"outlinewidth\":0,\"ticks\":\"\"}}}],\"histogram\":[{\"marker\":{\"pattern\":{\"fillmode\":\"overlay\",\"size\":10,\"solidity\":0.2}},\"type\":\"histogram\"}],\"scattergl\":[{\"type\":\"scattergl\",\"marker\":{\"colorbar\":{\"outlinewidth\":0,\"ticks\":\"\"}}}],\"scatter3d\":[{\"type\":\"scatter3d\",\"line\":{\"colorbar\":{\"outlinewidth\":0,\"ticks\":\"\"}},\"marker\":{\"colorbar\":{\"outlinewidth\":0,\"ticks\":\"\"}}}],\"scattermapbox\":[{\"type\":\"scattermapbox\",\"marker\":{\"colorbar\":{\"outlinewidth\":0,\"ticks\":\"\"}}}],\"scatterternary\":[{\"type\":\"scatterternary\",\"marker\":{\"colorbar\":{\"outlinewidth\":0,\"ticks\":\"\"}}}],\"scattercarpet\":[{\"type\":\"scattercarpet\",\"marker\":{\"colorbar\":{\"outlinewidth\":0,\"ticks\":\"\"}}}],\"carpet\":[{\"aaxis\":{\"endlinecolor\":\"#2a3f5f\",\"gridcolor\":\"white\",\"linecolor\":\"white\",\"minorgridcolor\":\"white\",\"startlinecolor\":\"#2a3f5f\"},\"baxis\":{\"endlinecolor\":\"#2a3f5f\",\"gridcolor\":\"white\",\"linecolor\":\"white\",\"minorgridcolor\":\"white\",\"startlinecolor\":\"#2a3f5f\"},\"type\":\"carpet\"}],\"table\":[{\"cells\":{\"fill\":{\"color\":\"#EBF0F8\"},\"line\":{\"color\":\"white\"}},\"header\":{\"fill\":{\"color\":\"#C8D4E3\"},\"line\":{\"color\":\"white\"}},\"type\":\"table\"}],\"barpolar\":[{\"marker\":{\"line\":{\"color\":\"#E5ECF6\",\"width\":0.5},\"pattern\":{\"fillmode\":\"overlay\",\"size\":10,\"solidity\":0.2}},\"type\":\"barpolar\"}],\"pie\":[{\"automargin\":true,\"type\":\"pie\"}]},\"layout\":{\"autotypenumbers\":\"strict\",\"colorway\":[\"#636efa\",\"#EF553B\",\"#00cc96\",\"#ab63fa\",\"#FFA15A\",\"#19d3f3\",\"#FF6692\",\"#B6E880\",\"#FF97FF\",\"#FECB52\"],\"font\":{\"color\":\"#2a3f5f\"},\"hovermode\":\"closest\",\"hoverlabel\":{\"align\":\"left\"},\"paper_bgcolor\":\"white\",\"plot_bgcolor\":\"#E5ECF6\",\"polar\":{\"bgcolor\":\"#E5ECF6\",\"angularaxis\":{\"gridcolor\":\"white\",\"linecolor\":\"white\",\"ticks\":\"\"},\"radialaxis\":{\"gridcolor\":\"white\",\"linecolor\":\"white\",\"ticks\":\"\"}},\"ternary\":{\"bgcolor\":\"#E5ECF6\",\"aaxis\":{\"gridcolor\":\"white\",\"linecolor\":\"white\",\"ticks\":\"\"},\"baxis\":{\"gridcolor\":\"white\",\"linecolor\":\"white\",\"ticks\":\"\"},\"caxis\":{\"gridcolor\":\"white\",\"linecolor\":\"white\",\"ticks\":\"\"}},\"coloraxis\":{\"colorbar\":{\"outlinewidth\":0,\"ticks\":\"\"}},\"colorscale\":{\"sequential\":[[0.0,\"#0d0887\"],[0.1111111111111111,\"#46039f\"],[0.2222222222222222,\"#7201a8\"],[0.3333333333333333,\"#9c179e\"],[0.4444444444444444,\"#bd3786\"],[0.5555555555555556,\"#d8576b\"],[0.6666666666666666,\"#ed7953\"],[0.7777777777777778,\"#fb9f3a\"],[0.8888888888888888,\"#fdca26\"],[1.0,\"#f0f921\"]],\"sequentialminus\":[[0.0,\"#0d0887\"],[0.1111111111111111,\"#46039f\"],[0.2222222222222222,\"#7201a8\"],[0.3333333333333333,\"#9c179e\"],[0.4444444444444444,\"#bd3786\"],[0.5555555555555556,\"#d8576b\"],[0.6666666666666666,\"#ed7953\"],[0.7777777777777778,\"#fb9f3a\"],[0.8888888888888888,\"#fdca26\"],[1.0,\"#f0f921\"]],\"diverging\":[[0,\"#8e0152\"],[0.1,\"#c51b7d\"],[0.2,\"#de77ae\"],[0.3,\"#f1b6da\"],[0.4,\"#fde0ef\"],[0.5,\"#f7f7f7\"],[0.6,\"#e6f5d0\"],[0.7,\"#b8e186\"],[0.8,\"#7fbc41\"],[0.9,\"#4d9221\"],[1,\"#276419\"]]},\"xaxis\":{\"gridcolor\":\"white\",\"linecolor\":\"white\",\"ticks\":\"\",\"title\":{\"standoff\":15},\"zerolinecolor\":\"white\",\"automargin\":true,\"zerolinewidth\":2},\"yaxis\":{\"gridcolor\":\"white\",\"linecolor\":\"white\",\"ticks\":\"\",\"title\":{\"standoff\":15},\"zerolinecolor\":\"white\",\"automargin\":true,\"zerolinewidth\":2},\"scene\":{\"xaxis\":{\"backgroundcolor\":\"#E5ECF6\",\"gridcolor\":\"white\",\"linecolor\":\"white\",\"showbackground\":true,\"ticks\":\"\",\"zerolinecolor\":\"white\",\"gridwidth\":2},\"yaxis\":{\"backgroundcolor\":\"#E5ECF6\",\"gridcolor\":\"white\",\"linecolor\":\"white\",\"showbackground\":true,\"ticks\":\"\",\"zerolinecolor\":\"white\",\"gridwidth\":2},\"zaxis\":{\"backgroundcolor\":\"#E5ECF6\",\"gridcolor\":\"white\",\"linecolor\":\"white\",\"showbackground\":true,\"ticks\":\"\",\"zerolinecolor\":\"white\",\"gridwidth\":2}},\"shapedefaults\":{\"line\":{\"color\":\"#2a3f5f\"}},\"annotationdefaults\":{\"arrowcolor\":\"#2a3f5f\",\"arrowhead\":0,\"arrowwidth\":1},\"geo\":{\"bgcolor\":\"white\",\"landcolor\":\"#E5ECF6\",\"subunitcolor\":\"white\",\"showland\":true,\"showlakes\":true,\"lakecolor\":\"white\"},\"title\":{\"x\":0.05},\"mapbox\":{\"style\":\"light\"}}},\"scene\":{\"domain\":{\"x\":[0.0,1.0],\"y\":[0.0,1.0]},\"xaxis\":{\"title\":{\"text\":\"x\"}},\"yaxis\":{\"title\":{\"text\":\"y\"}},\"zaxis\":{\"title\":{\"text\":\"z\"}}},\"legend\":{\"tracegroupgap\":0},\"margin\":{\"t\":60}},                        {\"responsive\": true}                    ).then(function(){\n",
       "                            \n",
       "var gd = document.getElementById('baf10150-e859-41dc-b5cc-5be1de6baa73');\n",
       "var x = new MutationObserver(function (mutations, observer) {{\n",
       "        var display = window.getComputedStyle(gd).display;\n",
       "        if (!display || display === 'none') {{\n",
       "            console.log([gd, 'removed!']);\n",
       "            Plotly.purge(gd);\n",
       "            observer.disconnect();\n",
       "        }}\n",
       "}});\n",
       "\n",
       "// Listen for the removal of the full notebook cells\n",
       "var notebookContainer = gd.closest('#notebook-container');\n",
       "if (notebookContainer) {{\n",
       "    x.observe(notebookContainer, {childList: true});\n",
       "}}\n",
       "\n",
       "// Listen for the clearing of the current output cell\n",
       "var outputEl = gd.closest('.output');\n",
       "if (outputEl) {{\n",
       "    x.observe(outputEl, {childList: true});\n",
       "}}\n",
       "\n",
       "                        })                };                            </script>        </div>\n",
       "</body>\n",
       "</html>"
      ]
     },
     "metadata": {},
     "output_type": "display_data"
    }
   ],
   "source": [
    "# Graficar los embedddings en 3D\n",
    "\n",
    "vecs, labels = reduce_dimensions(w2v_model,3)\n",
    "\n",
    "fig = px.scatter_3d(x=vecs[:MAX_WORDS,0], y=vecs[:MAX_WORDS,1], z=vecs[:MAX_WORDS,2],text=labels[:MAX_WORDS])\n",
    "fig.update_traces(marker_size = 2)\n",
    "fig.show(renderer=\"colab\") # esto para plotly en colab"
   ]
  },
  {
   "cell_type": "code",
   "execution_count": 24,
   "metadata": {
    "id": "thyYy8GeorLq"
   },
   "outputs": [],
   "source": [
    "# También se pueden guardar los vectores y labels como tsv para graficar en\n",
    "# http://projector.tensorflow.org/\n",
    "\n",
    "\n",
    "vectors = np.asarray(w2v_model.wv.vectors)\n",
    "labels = list(w2v_model.wv.index_to_key)\n",
    "\n",
    "np.savetxt(\"vectors.tsv\", vectors, delimiter=\"\\t\")\n",
    "\n",
    "with open(\"labels.tsv\", \"w\") as fp:\n",
    "    for item in labels:\n",
    "        fp.write(\"%s\\n\" % item)"
   ]
  },
  {
   "cell_type": "markdown",
   "metadata": {
    "id": "3WiK3wVYsAmL"
   },
   "source": [
    "Vamos a probar una analogía teniendo en cuenta las siguientes palabras: jesus, angeles, discipulos"
   ]
  },
  {
   "cell_type": "code",
   "execution_count": 42,
   "metadata": {
    "colab": {
     "base_uri": "https://localhost:8080/"
    },
    "id": "s5NeWRE2rmRx",
    "outputId": "e906df84-2dbf-4ab6-898f-e3eb3d9d2c57"
   },
   "outputs": [
    {
     "name": "stdout",
     "output_type": "stream",
     "text": [
      "10 words most similar to the analogy 'jesus' + 'angels' - 'disciples':\n",
      "pertain: 0.37585151195526123\n",
      "thessalonians: 0.37351593375205994\n",
      "trieth: 0.3688833713531494\n",
      "angel: 0.3578636348247528\n",
      "chastisement: 0.35320091247558594\n",
      "secrets: 0.35265064239501953\n",
      "immortality: 0.35019880533218384\n",
      "marked: 0.3490939736366272\n",
      "reproaches: 0.34480902552604675\n",
      "beforehand: 0.34401026368141174\n"
     ]
    }
   ],
   "source": [
    "# Find the 10 most similar words to the analogy 'jesus' + 'angels' - 'disciples'\n",
    "result = w2v_model.wv.most_similar(positive=['jesus', 'angels'], negative=['disciples'], topn=10)\n",
    "\n",
    "# Print the results\n",
    "print(\"10 words most similar to the analogy 'jesus' + 'angels' - 'disciples':\")\n",
    "for word, similarity in result:\n",
    "    print(f\"{word}: {similarity}\")"
   ]
  },
  {
   "cell_type": "markdown",
   "metadata": {},
   "source": [
    "De las analogías confluimos que existe cierta cercanía semántica en el espacio vectorial entre las palabras resultantes."
   ]
  }
 ],
 "metadata": {
  "colab": {
   "provenance": []
  },
  "kernelspec": {
   "display_name": "Python 3 (ipykernel)",
   "language": "python",
   "name": "python3"
  },
  "language_info": {
   "codemirror_mode": {
    "name": "ipython",
    "version": 3
   },
   "file_extension": ".py",
   "mimetype": "text/x-python",
   "name": "python",
   "nbconvert_exporter": "python",
   "pygments_lexer": "ipython3",
   "version": "3.10.6"
  }
 },
 "nbformat": 4,
 "nbformat_minor": 0
}
